{
  "nbformat": 4,
  "nbformat_minor": 0,
  "metadata": {
    "colab": {
      "provenance": []
    },
    "kernelspec": {
      "name": "python3",
      "display_name": "Python 3"
    },
    "language_info": {
      "name": "python"
    }
  },
  "cells": [
    {
      "cell_type": "code",
      "execution_count": 9,
      "metadata": {
        "colab": {
          "base_uri": "https://localhost:8080/"
        },
        "id": "j4mqyHepi_S9",
        "outputId": "5a8c3e30-66cf-40fa-992e-4a4ed1e13c84"
      },
      "outputs": [
        {
          "output_type": "stream",
          "name": "stdout",
          "text": [
            "Enter a string: Python\n",
            "Reversed string is: noht\n"
          ]
        }
      ],
      "source": [
        "P = input(\"Enter a string: \")\n",
        "if len(P) < 2:\n",
        "    print(\"Input string must have at least 2 characters.\")\n",
        "else:\n",
        "    modified = P[2:]\n",
        "    reversed = modified[::-1]\n",
        "\n",
        "    print(\"Reversed string is:\",reversed)"
      ]
    },
    {
      "cell_type": "code",
      "source": [
        "A = float(input(\"Enter first number: \"))\n",
        "B = float(input(\"Enter second number: \"))\n",
        "print(\"Addition:\", A+B)\n",
        "print(\"Multiplication:\", A*B)\n",
        "print(\"Subtraction:\", A-B)\n",
        "print(\"Division:\", A/B)"
      ],
      "metadata": {
        "colab": {
          "base_uri": "https://localhost:8080/"
        },
        "id": "LXkDBGkIjtQm",
        "outputId": "0e56df85-bf4e-4d0d-c1ce-5df8454bda31"
      },
      "execution_count": 10,
      "outputs": [
        {
          "output_type": "stream",
          "name": "stdout",
          "text": [
            "Enter first number: 10\n",
            "Enter second number: 5\n",
            "Addition: 15.0\n",
            "Multiplication: 50.0\n",
            "Subtraction: 5.0\n",
            "Division: 2.0\n"
          ]
        }
      ]
    },
    {
      "cell_type": "code",
      "source": [
        "input_sentence = input(\"Enter input sentence: \")\n",
        "\n",
        "modified_sentence = input_sentence.replace('Python', 'Pythons')\n",
        "\n",
        "print(\"Modified sentence:\", modified_sentence)"
      ],
      "metadata": {
        "colab": {
          "base_uri": "https://localhost:8080/"
        },
        "id": "YIu89CyFj8MZ",
        "outputId": "a4b69911-b939-4209-838e-01960583551e"
      },
      "execution_count": 11,
      "outputs": [
        {
          "output_type": "stream",
          "name": "stdout",
          "text": [
            "Enter input sentence: I love Python\n",
            "Modified sentence: I love Pythons\n"
          ]
        }
      ]
    },
    {
      "cell_type": "code",
      "source": [
        "score = int(input(\"Enter class score :\"))\n",
        "if(score>=90):\n",
        "  print(\"Grade : A\")\n",
        "elif(score>=80 and score<90):\n",
        "  print(\"Grade : B\")\n",
        "elif(score>=70 and score<80):\n",
        "  print(\"Grade : C\")\n",
        "elif(score>=60 and score<70):\n",
        "  print(\"Grade : D\")\n",
        "else:\n",
        "  print(\"F\")"
      ],
      "metadata": {
        "colab": {
          "base_uri": "https://localhost:8080/"
        },
        "id": "sjyVw7DLkSMa",
        "outputId": "5576e5bc-0d2d-4d56-b4c5-888b74b33695"
      },
      "execution_count": 12,
      "outputs": [
        {
          "output_type": "stream",
          "name": "stdout",
          "text": [
            "Enter class score :93\n",
            "Grade : A\n"
          ]
        }
      ]
    }
  ]
}